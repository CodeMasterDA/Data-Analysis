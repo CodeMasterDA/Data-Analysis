{
 "cells": [
  {
   "cell_type": "markdown",
   "metadata": {},
   "source": [
    "# Data Types and Structures Questions"
   ]
  },
  {
   "cell_type": "markdown",
   "metadata": {},
   "source": [
    "1) Data structures are specific ways of organizing, storing, and managing data in a computer's memory. They define the relationship between data elements and the operations that can be performed on them (like adding, removing, or finding data). Examples -arrays. \n",
    " \n",
    " They are crucial because the choice of data structure directly impacts the efficiency of a program. A well-chosen data structure allows for faster data access, insertion, deletion, and searching operations, leading to better performance and more effective use of computing resources.\n"
   ]
  },
  {
   "cell_type": "markdown",
   "metadata": {},
   "source": [
    "2)\tThe core difference lies in whether an object's value can be changed after it's created:\n",
    "\n",
    "Mutable Data Types: Objects of mutable types can be modified after they are created. Any changes affect the original object directly in memory.\n",
    "\n",
    "Immutable Data Types: Objects of immutable types cannot be modified after they are created. \n"
   ]
  },
  {
   "cell_type": "markdown",
   "metadata": {},
   "source": [
    "3)\tThe main differences between Python lists and tuples in brief are:\n",
    "\n",
    "Mutability: Lists are mutable, meaning you can change their content after creation (add, remove, or modify elements).\n",
    "\n",
    "Tuples are immutable, meaning once created, their content cannot be changed.\n",
    "\n",
    "Syntax: They are defined differently.\n",
    "\n",
    "Lists: list = [1, 2, 3]\n",
    "\n",
    "Tuples: tuple = (1, 2, 3)\n",
    "\n",
    "Use Cases: \n",
    "Lists are used for sequences of items that may need to change during the program's execution.\n",
    "\n",
    "Tuples are often used to represent fixed collections of items (like coordinates or records) and can be used as dictionary keys (because they are immutable and hash-able), whereas lists cannot.\n"
   ]
  },
  {
   "cell_type": "markdown",
   "metadata": {},
   "source": [
    "4)\tDictionaries store data as ‘key-value pairs’. They use the key to determine where to store the associated value, allowing for very fast lookups based on that key."
   ]
  },
  {
   "cell_type": "markdown",
   "metadata": {},
   "source": [
    "5)\tI would use a set instead of a list in Python primarily for these reasons:\n",
    "\n",
    "Uniqueness: Sets automatically store only unique elements, discarding duplicates.\n",
    "\n",
    "Fast Membership Testing: Checking if an item exists in a set is significantly faster on average than checking in a list.\n",
    "\n",
    "Set Operations: Sets provide efficient methods for mathematical operations like union, intersection, and difference.\n"
   ]
  },
  {
   "cell_type": "markdown",
   "metadata": {},
   "source": [
    "6)\tA string is a sequence of characters, used to represent text. Strings are enclosed in quotes (single, double, or triple). A key characteristic of strings is that they are immutable, meaning once created, their content cannot be changed.\n",
    "\n",
    "A list is an ordered collection of items. These items can be of any data type and a single list can contain items of different types. Lists are defined using square brackets `[]` with items separated by commas. The main difference from strings is that lists are mutable, which means you can add, remove, or modify elements after the list has been created.\n"
   ]
  },
  {
   "cell_type": "markdown",
   "metadata": {},
   "source": [
    "7)\tTuples ensure data integrity in Python primarily because they are immutable. This means that once a tuple is created, you cannot change, add, or remove its elements. This prevents accidental or unintended modifications to the data stored within the tuple, thus helping to maintain its integrity throughout the program's execution."
   ]
  },
  {
   "cell_type": "markdown",
   "metadata": {},
   "source": [
    "8)\tA hash table is a data structure that stores key-value pairs. It uses a hash function to compute an index for each key, which helps in quickly locating the corresponding value. Python dictionaries are implemented using hash tables. When we add a key-value pair to a dictionary, Python uses a hash function on the key to figure out where to store it internally. When we want to retrieve a value using its key, Python hashes the key again to quickly find the location of the value. This makes looking up, adding, and deleting items in a dictionary very fast on average."
   ]
  },
  {
   "cell_type": "markdown",
   "metadata": {},
   "source": [
    "9) In Python, lists can contain different data types.\n",
    "\n",
    "Example:\n",
    "\n",
    "mylist = [1, \"hello\", True, 3.14]\n",
    "\n",
    "print(mylist) \n"
   ]
  },
  {
   "cell_type": "markdown",
   "metadata": {},
   "source": [
    "10)\tStrings in Python are immutable, which means that once a string object is created, its contents cannot be changed. Any operation that appears to modify a string, such as concatenation or replacement, actually creates a new string object with the desired changes. Immutable objects can be optimized by Python and it makes code easier to understand and reason about."
   ]
  },
  {
   "cell_type": "markdown",
   "metadata": {},
   "source": [
    "11)\tDictionaries offer significant advantages over lists:\n",
    "\n",
    "Quickly look up values based on a unique identifier: Dictionaries use keys to access values directly, providing average constant time lookup efficiency. Lists require searching through elements, which can be slow for large lists.\n",
    "\n",
    "Represent relationships between pieces of data: Dictionaries store data as key-value pairs, making it intuitive to model objects or entities with properties.\n",
    "\n",
    "Ensure uniqueness of identifiers: Dictionary keys must be unique, preventing duplicate entries for the same identifier.\n"
   ]
  },
  {
   "cell_type": "markdown",
   "metadata": {},
   "source": [
    "12)\tWhen we need to store a collection of items that should not be changed after they are created. For example, storing the coordinates of a point (like latitude & longitude) or PAN Card Numbers (like AJFOIU276). Since these values represent a fixed set that shouldn't be modified, using an immutable tuple ensures data integrity and prevents accidental changes."
   ]
  },
  {
   "cell_type": "markdown",
   "metadata": {},
   "source": [
    "13)\tPython sets are designed to contain only unique elements. When you add elements to a set, or create a set from an iterable that contains duplicates, the set automatically discards any repeated values. This ensures that each element within a set is present only once."
   ]
  },
  {
   "cell_type": "markdown",
   "metadata": {},
   "source": [
    "14)\tThe `in` keyword in Python is used for membership testing, but it checks for different things in lists and dictionaries:\n",
    "\n",
    "For lists, the `in` keyword checks if an element exists as one of the values in the list. It iterates through the list to see if it finds a match for the item you're looking for.\n",
    "\n",
    "For dictionaries, the `in` keyword checks if an item exists as one of the keys in the dictionary and not the values associated with the key."
   ]
  },
  {
   "cell_type": "markdown",
   "metadata": {},
   "source": [
    "15)\tNo, we cannot modify the individual elements of a tuple after it has been created.\n",
    "\n",
    "This is because tuples are immutable data structures in Python. Immutability means that the contents of the tuple are fixed at the time of creation and cannot be changed, added to, or removed from afterwards. If you need a collection that can be modified, a list should be used instead."
   ]
  },
  {
   "cell_type": "markdown",
   "metadata": {},
   "source": [
    "16)\tA nested dictionary in Python is a dictionary where the values are themselves other dictionaries. This creates a structure we organize data in layers."
   ]
  },
  {
   "cell_type": "code",
   "execution_count": 16,
   "metadata": {},
   "outputs": [],
   "source": [
    "#### Example:\n",
    "students = {\n",
    "    \"student1\": {\n",
    "        \"name\": \"Ali\",\n",
    "        \"age\": 20,\n",
    "        \"major\": \"Computer Science\"\n",
    "    },\n",
    "    \"student2\": {\n",
    "        \"name\": \"Ramesh\",\n",
    "        \"age\": 22,\n",
    "        \"major\": \"Physics\"\n",
    "    }\n",
    "}\n"
   ]
  },
  {
   "cell_type": "markdown",
   "metadata": {},
   "source": [
    "Example of use case:\n",
    "\n",
    "A common use case is representing structured data like a database record. In the example above, the outer dictionary keys (\"student1\", \"student2\") could be student IDs, and the inner dictionaries store various attributes for each student (name, age, major). This allows you to easily access specific information, like the major of student1: students[\"student1\"][\"major\"].\n"
   ]
  },
  {
   "cell_type": "markdown",
   "metadata": {},
   "source": [
    "17)\tAccessing elements in a Python dictionary by key is quite fast. On average, the time it takes is constant, regardless of how many items are in the dictionary. This is referred to as O(1) time complexity. It's like directly going to a specific labeled box to get its content."
   ]
  },
  {
   "cell_type": "markdown",
   "metadata": {},
   "source": [
    "18)\tLists are preferred over dictionaries in situations where:\n",
    "\n",
    "The order of elements is important: Lists maintain the insertion order of elements, whereas dictionary keys are unordered.\n",
    "\n",
    "Need to access elements by their position/index: Lists are indexed sequences, allowing direct access to elements using numerical indices. Dictionaries use keys for access.\n",
    "\n",
    " Need to store a collection of items without unique identifiers: Lists can contain duplicate elements and are suitable for simple collections where a key-value relationship isn't necessary.\n",
    "\n",
    " Primarily need to iterate over the collection sequentially: Lists are efficient for iterating through all their elements in order.\n",
    "\n"
   ]
  },
  {
   "cell_type": "markdown",
   "metadata": {},
   "source": [
    "19)\tIn earlier versions, dictionaries were considered unordered because their internal structure (based on hash tables) prioritized fast key lookups over maintaining any specific order of elements. This meant the order in which you added items was not guaranteed when you iterated through the dictionary or accessed its contents.\n",
    "\n",
    "While modern Python (3.7+) preserves insertion order, this historical unordered nature means you shouldn't rely on a dictionary to keep elements in a specific positional sequence if your code needs to be compatible with older Python versions or if the order is critical for logic beyond simple iteration, Data retrieval is still primarily done by key, which remains fast regardless of the order."
   ]
  },
  {
   "cell_type": "markdown",
   "metadata": {},
   "source": [
    "20)\tThe main difference is:\n",
    "\n",
    "Lists: You retrieve elements based on their position or index, starting from 0. To find a specific value, you might have to check elements one by one until you find it. Accessing by a known index is very fast.\n",
    "\n",
    "Dictionaries: You retrieve values based on their unique key. You provide the key, and the dictionary directly gives you the associated value. Finding a value by its key is very fast, regardless of the dictionary's size. Searching for a value without knowing its key requires iterating through all values, which can make work slower."
   ]
  },
  {
   "cell_type": "markdown",
   "metadata": {},
   "source": [
    "# Practical Questions"
   ]
  },
  {
   "cell_type": "markdown",
   "metadata": {},
   "source": [
    "1. Write a code to create a string with your name and print it."
   ]
  },
  {
   "cell_type": "code",
   "execution_count": 44,
   "metadata": {},
   "outputs": [
    {
     "name": "stdout",
     "output_type": "stream",
     "text": [
      "Shaikh\n"
     ]
    }
   ],
   "source": [
    "my_name= \"Shaikh\"\n",
    "print (my_name)"
   ]
  },
  {
   "cell_type": "markdown",
   "metadata": {},
   "source": [
    "2. write a code to find the length of the string \"Hello world\"."
   ]
  },
  {
   "cell_type": "code",
   "execution_count": 45,
   "metadata": {},
   "outputs": [
    {
     "data": {
      "text/plain": [
       "11"
      ]
     },
     "execution_count": 45,
     "metadata": {},
     "output_type": "execute_result"
    }
   ],
   "source": [
    "string= \"Hello World\"\n",
    "len(string)"
   ]
  },
  {
   "cell_type": "markdown",
   "metadata": {},
   "source": [
    "3. Write a code to slice the first 3 characters from the string \"Python Programming\"."
   ]
  },
  {
   "cell_type": "code",
   "execution_count": 46,
   "metadata": {},
   "outputs": [
    {
     "name": "stdout",
     "output_type": "stream",
     "text": [
      "Pyt\n"
     ]
    }
   ],
   "source": [
    "my_assngmt= \"Python Programming\"\n",
    "slice_of_it= my_assngmt[0:3]\n",
    "print(slice_of_it)"
   ]
  },
  {
   "cell_type": "markdown",
   "metadata": {},
   "source": [
    "4. Write a code to convert the string \"hello\" to uppercase."
   ]
  },
  {
   "cell_type": "code",
   "execution_count": 47,
   "metadata": {},
   "outputs": [
    {
     "name": "stdout",
     "output_type": "stream",
     "text": [
      "HELLO\n"
     ]
    }
   ],
   "source": [
    "strn= \"hello\"\n",
    "uppercase = strn.upper()\n",
    "print(uppercase)"
   ]
  },
  {
   "cell_type": "markdown",
   "metadata": {},
   "source": [
    "5. Write a code to replace the word 'apple' with 'orange' in the string \"I like apple\"."
   ]
  },
  {
   "cell_type": "code",
   "execution_count": 48,
   "metadata": {},
   "outputs": [
    {
     "name": "stdout",
     "output_type": "stream",
     "text": [
      "I like orange\n"
     ]
    }
   ],
   "source": [
    "fruits = (\"I like apple\")\n",
    "new_fruit = fruits.replace(\"apple\", \"orange\")\n",
    "print(new_fruit)"
   ]
  },
  {
   "cell_type": "markdown",
   "metadata": {},
   "source": [
    "6. Write a code to create a list with numbers 1 to 5 and print it"
   ]
  },
  {
   "cell_type": "code",
   "execution_count": 49,
   "metadata": {},
   "outputs": [
    {
     "name": "stdout",
     "output_type": "stream",
     "text": [
      "[1, 2, 3, 4, 5]\n"
     ]
    }
   ],
   "source": [
    "list= [1,2,3,4,5 ]\n",
    "print(list)"
   ]
  },
  {
   "cell_type": "markdown",
   "metadata": {},
   "source": [
    "7. Write a code to append the number 10 to the list [1, 2, 3, 4],"
   ]
  },
  {
   "cell_type": "code",
   "execution_count": 50,
   "metadata": {},
   "outputs": [
    {
     "name": "stdout",
     "output_type": "stream",
     "text": [
      "[1, 2, 3, 4, 10]\n"
     ]
    }
   ],
   "source": [
    "list= [1,2, 3, 4]\n",
    "list.append(10)\n",
    "print(list)\n"
   ]
  },
  {
   "cell_type": "markdown",
   "metadata": {},
   "source": [
    "8. write a code to remove the number 3 from the list [1, 2, 3,4, 5]."
   ]
  },
  {
   "cell_type": "code",
   "execution_count": 51,
   "metadata": {},
   "outputs": [
    {
     "name": "stdout",
     "output_type": "stream",
     "text": [
      "[1, 2, 3, 4]\n"
     ]
    }
   ],
   "source": [
    "list= [1,2, 3, 4, 5]\n",
    "list.remove(5)\n",
    "print(list)"
   ]
  },
  {
   "cell_type": "markdown",
   "metadata": {},
   "source": [
    "9. Write a code to access the second element In the list ['a','b','c','d']."
   ]
  },
  {
   "cell_type": "code",
   "execution_count": 52,
   "metadata": {},
   "outputs": [
    {
     "name": "stdout",
     "output_type": "stream",
     "text": [
      "b\n"
     ]
    }
   ],
   "source": [
    "list= ['a', 'b', 'c', 'd']\n",
    "print(list[1])"
   ]
  },
  {
   "cell_type": "markdown",
   "metadata": {},
   "source": [
    "10. Write a code to reverse the list [10, 20,30, 40, 50]."
   ]
  },
  {
   "cell_type": "code",
   "execution_count": 53,
   "metadata": {},
   "outputs": [
    {
     "name": "stdout",
     "output_type": "stream",
     "text": [
      "[50, 40, 30, 20, 10]\n"
     ]
    }
   ],
   "source": [
    "numbr= [10, 20, 30, 40, 50]\n",
    "numbr.reverse()\n",
    "print(numbr)"
   ]
  },
  {
   "cell_type": "markdown",
   "metadata": {},
   "source": [
    "11. Write code to create a tuple with the elements 100,200, 300 and print It."
   ]
  },
  {
   "cell_type": "code",
   "execution_count": 54,
   "metadata": {},
   "outputs": [
    {
     "name": "stdout",
     "output_type": "stream",
     "text": [
      "('100', '200', '300')\n"
     ]
    }
   ],
   "source": [
    "tuple= (\"100\", \"200\", \"300\")\n",
    "print(tuple)"
   ]
  },
  {
   "cell_type": "markdown",
   "metadata": {},
   "source": [
    "12. Write a code to access the second-to-last element of the tuple ('red','green', 'blue', 'yellow')"
   ]
  },
  {
   "cell_type": "code",
   "execution_count": 55,
   "metadata": {},
   "outputs": [
    {
     "name": "stdout",
     "output_type": "stream",
     "text": [
      "blue\n"
     ]
    }
   ],
   "source": [
    "my_tuple= ('red','green', 'blue', 'yellow')\n",
    "print(my_tuple[-2])"
   ]
  },
  {
   "cell_type": "markdown",
   "metadata": {},
   "source": [
    "13. Write a code to find the minimum number In the tuple (10,20, 5,15)."
   ]
  },
  {
   "cell_type": "code",
   "execution_count": 56,
   "metadata": {},
   "outputs": [
    {
     "name": "stdout",
     "output_type": "stream",
     "text": [
      "5\n"
     ]
    }
   ],
   "source": [
    "min_no= (10,20, 5,15)\n",
    "minimum_numb = min(min_no)\n",
    "print(minimum_numb)"
   ]
  },
  {
   "cell_type": "markdown",
   "metadata": {},
   "source": [
    "14. Write a code to find the index of the element \"cat\" In the tuple ('dog', 'cat','rabbit')."
   ]
  },
  {
   "cell_type": "code",
   "execution_count": 57,
   "metadata": {},
   "outputs": [
    {
     "name": "stdout",
     "output_type": "stream",
     "text": [
      "cat\n"
     ]
    }
   ],
   "source": [
    "pets = ('dog', 'cat', 'rabbit')\n",
    "print(pets[1])"
   ]
  },
  {
   "cell_type": "markdown",
   "metadata": {},
   "source": [
    "15. Write a code to create a tuple containing three different fruits and check If 'kiwi' is In It"
   ]
  },
  {
   "cell_type": "code",
   "execution_count": 58,
   "metadata": {},
   "outputs": [
    {
     "name": "stdout",
     "output_type": "stream",
     "text": [
      "Yes it is present\n",
      "('banana', 'apple', 'kiwi')\n"
     ]
    }
   ],
   "source": [
    "fruits= ('banana', 'apple', 'kiwi')\n",
    "fruit_check= 'kiwi'\n",
    "if fruit_check in fruits:\n",
    "    print(\"Yes it is present\")\n",
    "else:\n",
    "    print(\"No not present\")\n",
    "print (fruits)\n"
   ]
  },
  {
   "cell_type": "markdown",
   "metadata": {},
   "source": [
    "16. Write a code to create a set with the elements 'a', 'b', 'c' and print It."
   ]
  },
  {
   "cell_type": "code",
   "execution_count": 59,
   "metadata": {},
   "outputs": [
    {
     "name": "stdout",
     "output_type": "stream",
     "text": [
      "{'c', 'a', 'b'}\n"
     ]
    }
   ],
   "source": [
    "my_set= {'a', 'b', 'c'}\n",
    "print(my_set) "
   ]
  },
  {
   "cell_type": "markdown",
   "metadata": {},
   "source": [
    "17. Write a code to clear all elements from the set {1, 2 3,4,6}."
   ]
  },
  {
   "cell_type": "code",
   "execution_count": 61,
   "metadata": {},
   "outputs": [
    {
     "name": "stdout",
     "output_type": "stream",
     "text": [
      "{1, 2, 3, 4, 5}\n",
      "set()\n"
     ]
    }
   ],
   "source": [
    "my_set= {1,2,3,4,5}\n",
    "print(my_set)\n",
    "my_set.clear()\n",
    "print(my_set)"
   ]
  },
  {
   "cell_type": "markdown",
   "metadata": {},
   "source": [
    "18. Write a code to remove the element 4 from the set {1, 2,3,4}."
   ]
  },
  {
   "cell_type": "code",
   "execution_count": 63,
   "metadata": {},
   "outputs": [
    {
     "name": "stdout",
     "output_type": "stream",
     "text": [
      "{1, 2, 3}\n"
     ]
    }
   ],
   "source": [
    "my_set= {1,2,3,4}\n",
    "my_set.remove(4)\n",
    "print(my_set)"
   ]
  },
  {
   "cell_type": "markdown",
   "metadata": {},
   "source": [
    "19. Write a code to find the union of two sets {1, 2,3} and {3, 4, 5}."
   ]
  },
  {
   "cell_type": "code",
   "execution_count": 64,
   "metadata": {},
   "outputs": [
    {
     "name": "stdout",
     "output_type": "stream",
     "text": [
      "{1, 2, 3, 4, 5, 6}\n"
     ]
    }
   ],
   "source": [
    "set1= {1,2,3}\n",
    "set2= {4,5,6}\n",
    "union_of_set= set1.union(set2)\n",
    "print(union_of_set)"
   ]
  },
  {
   "cell_type": "markdown",
   "metadata": {},
   "source": [
    "20.Writea code to find the Intersection of two sets {1, 2, 3} and {2, 3, 4}."
   ]
  },
  {
   "cell_type": "code",
   "execution_count": 65,
   "metadata": {},
   "outputs": [
    {
     "name": "stdout",
     "output_type": "stream",
     "text": [
      "{2, 3}\n"
     ]
    }
   ],
   "source": [
    "set1= {1,2,3}\n",
    "set2= {2,3,4}\n",
    "intersection_of_set = set1.intersection(set2)\n",
    "print(intersection_of_set)"
   ]
  },
  {
   "cell_type": "markdown",
   "metadata": {},
   "source": [
    "21. Write a code to create a dictionary with the keys ‘name','age’, and'city', and print It"
   ]
  },
  {
   "cell_type": "code",
   "execution_count": 72,
   "metadata": {},
   "outputs": [
    {
     "name": "stdout",
     "output_type": "stream",
     "text": [
      "{'Name': 'Anjali', 'Age': 20, 'City': 'Kalimpong'}\n"
     ]
    }
   ],
   "source": [
    "dict= {\"Name\": 'Anjali', \"Age\": 20, \"City\": 'Kalimpong'}\n",
    "print(dict)"
   ]
  },
  {
   "cell_type": "markdown",
   "metadata": {},
   "source": [
    "22. Write a code to adda new key-value pair \"country\":'USA' to the dictionary {'name':'John', 'age':25}."
   ]
  },
  {
   "cell_type": "code",
   "execution_count": 73,
   "metadata": {},
   "outputs": [
    {
     "name": "stdout",
     "output_type": "stream",
     "text": [
      "{'name': 'John', 'age': 25, 'country': 'USA'}\n"
     ]
    }
   ],
   "source": [
    "id= {'name':'John', 'age':25}\n",
    "id.update({'country': 'USA'})\n",
    "print(id)"
   ]
  },
  {
   "cell_type": "markdown",
   "metadata": {},
   "source": [
    "23. Write a code to access the value associated with the key 'name'In the dictionary {'name':'Alice','age'; 30}."
   ]
  },
  {
   "cell_type": "code",
   "execution_count": 74,
   "metadata": {},
   "outputs": [
    {
     "data": {
      "text/plain": [
       "'Alice'"
      ]
     },
     "execution_count": 74,
     "metadata": {},
     "output_type": "execute_result"
    }
   ],
   "source": [
    "id= {'name':'Alice','age': 30}\n",
    "id.get('name')"
   ]
  },
  {
   "cell_type": "markdown",
   "metadata": {},
   "source": [
    "24. Write a code to remove the key 'age' from the dictionary {'name':'Bob', 'age': 22, 'city': 'New York'}."
   ]
  },
  {
   "cell_type": "code",
   "execution_count": 1,
   "metadata": {},
   "outputs": [
    {
     "name": "stdout",
     "output_type": "stream",
     "text": [
      "{'name': 'Bob', 'city': 'New York'}\n"
     ]
    }
   ],
   "source": [
    "id = {'name':'Bob', 'age': 22, 'city': 'New York'}\n",
    "del id['age']\n",
    "print(id)"
   ]
  },
  {
   "cell_type": "markdown",
   "metadata": {},
   "source": [
    "25. Write a code to check If the key 'city' exists In the dictionary {'name:'Alice', 'city': 'Paris'}."
   ]
  },
  {
   "cell_type": "code",
   "execution_count": 7,
   "metadata": {},
   "outputs": [
    {
     "name": "stdout",
     "output_type": "stream",
     "text": [
      "She lives in Paris\n"
     ]
    }
   ],
   "source": [
    "dict= {'name':'Alice', 'city': 'Paris'}\n",
    "domicile = 'city'\n",
    "if domicile in dict:\n",
    "    print(\"She lives in Paris\")\n",
    "else:\n",
    "    print(\"City is unknown\")\n",
    "       "
   ]
  },
  {
   "cell_type": "markdown",
   "metadata": {},
   "source": [
    "26. Write a code to create a list, a tuple, and a dictionary, and print them all"
   ]
  },
  {
   "cell_type": "code",
   "execution_count": 1,
   "metadata": {},
   "outputs": [
    {
     "name": "stdout",
     "output_type": "stream",
     "text": [
      "[1, 2, 3, 'apple', 'banana']\n",
      "(10, 20, 30, 'cherry', 'date')\n",
      "{'name': 'Alice', 'age': 30, 'city': 'New York'}\n"
     ]
    }
   ],
   "source": [
    "my_list = [1, 2, 3, 'apple', 'banana'] #list\n",
    "\n",
    "my_tuple = (10, 20, 30, 'cherry', 'date') #tuple\n",
    "\n",
    "my_dict = {'name': 'Alice','age': 30,'city': 'New York'}  #dictionary\n",
    "\n",
    "print(my_list)\n",
    "print(my_tuple)\n",
    "print(my_dict)\n",
    "\n"
   ]
  },
  {
   "cell_type": "markdown",
   "metadata": {},
   "source": [
    "27. Write a code to create a list of 5 random numbers between 1 and 100, sort It In ascending order,and print the result (replaced)"
   ]
  },
  {
   "cell_type": "markdown",
   "metadata": {},
   "source": [
    "28. Write a code to create a list with strings and print the element at the third Index."
   ]
  },
  {
   "cell_type": "code",
   "execution_count": 5,
   "metadata": {},
   "outputs": [
    {
     "name": "stdout",
     "output_type": "stream",
     "text": [
      "The element at the third index is: cherry\n"
     ]
    }
   ],
   "source": [
    "list = [\"apple\", \"banana\", \"cherry\", \"date\", \"blueberry\"]\n",
    "print(\"The element at the third index is:\" + \" \" +list[2])\n"
   ]
  },
  {
   "cell_type": "markdown",
   "metadata": {},
   "source": [
    "29. Writea code to combine two dictionaries Into one and print the result"
   ]
  },
  {
   "cell_type": "code",
   "execution_count": 17,
   "metadata": {},
   "outputs": [
    {
     "name": "stdout",
     "output_type": "stream",
     "text": [
      "{'Name': 'Karina', 'Age': 40, 'Address': 'Mumbai', 'Floor': 10}\n"
     ]
    }
   ],
   "source": [
    "dict1 = {\"Name\": \"Karina\", \"Age\": 40}\n",
    "dict2 = {\"Address\": \"Mumbai\", \"Floor\": 10}\n",
    "dict1.update(dict2)\n",
    "print(dict1)\n",
    "\n"
   ]
  },
  {
   "cell_type": "markdown",
   "metadata": {},
   "source": [
    "30. Write a code to convert a list of strings Into a set."
   ]
  },
  {
   "cell_type": "code",
   "execution_count": 18,
   "metadata": {},
   "outputs": [
    {
     "name": "stdout",
     "output_type": "stream",
     "text": [
      "{'apple', 'date', 'cherry', 'banana'}\n"
     ]
    }
   ],
   "source": [
    "list = [\"apple\", \"banana\", \"cherry\", \"apple\", \"date\", \"banana\"]\n",
    "string_set = set(list)\n",
    "print(string_set)"
   ]
  }
 ],
 "metadata": {
  "kernelspec": {
   "display_name": "Python 3",
   "language": "python",
   "name": "python3"
  },
  "language_info": {
   "codemirror_mode": {
    "name": "ipython",
    "version": 3
   },
   "file_extension": ".py",
   "mimetype": "text/x-python",
   "name": "python",
   "nbconvert_exporter": "python",
   "pygments_lexer": "ipython3",
   "version": "3.13.1"
  }
 },
 "nbformat": 4,
 "nbformat_minor": 2
}
